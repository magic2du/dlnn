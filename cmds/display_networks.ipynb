{
 "metadata": {
  "name": "",
  "signature": "sha256:56629051d607bd296944ce69f40f6ffc0df06ab4b7b1960d8ad4c5ce54355587"
 },
 "nbformat": 3,
 "nbformat_minor": 0,
 "worksheets": [
  {
   "cells": [
    {
     "cell_type": "code",
     "collapsed": false,
     "input": [
      "import sys\n",
      "\n",
      "sys.path.append('/home/du/workspace/pdnn/')\n",
      "import cPickle\n",
      "import gzip\n",
      "import os\n",
      "import sys\n",
      "import time\n",
      "\n",
      "import numpy\n",
      "import theano\n",
      "import theano.tensor as T\n",
      "from theano.tensor.shared_randomstreams import RandomStreams\n",
      "\n",
      "from models.dnn import DNN\n",
      "from models.dropout_nnet import DNN_Dropout\n",
      "\n",
      "from io_func.model_io import _nnet2file, _cfg2file, _file2nnet, log\n",
      "from utils.utils import parse_arguments\n",
      "from utils.learn_rates import _lrate2file, _file2lrate\n",
      "\n",
      "from utils.network_config import NetworkConfig\n",
      "from learning.sgd import train_sgd, validate_by_minibatch\n",
      "sys.path.append('/home/du/Dropbox/Project/libs/')\n",
      "from  DL_libs import NetworkDisplayer"
     ],
     "language": "python",
     "metadata": {},
     "outputs": [],
     "prompt_number": 1
    },
    {
     "cell_type": "code",
     "collapsed": false,
     "input": [
      "from DL_libs import *\n",
      "cfg = NetworkConfig()\n",
      "arguments = {}\n",
      "arguments['ptr_file'] = 'sda.mdl'\n",
      "arguments['ptr_layer_number'] = 2\n",
      "# parse pre-training options\n",
      "# pre-training files and layer number (how many layers are set to the pre-training parameters)\n",
      "ptr_layer_number = 2; ptr_file = ''\n",
      "if arguments.has_key('ptr_file') and arguments.has_key('ptr_layer_number'):\n",
      "    ptr_file = arguments['ptr_file']\n",
      "    ptr_layer_number = int(arguments['ptr_layer_number'])\n",
      "cfg.hidden_layers_sizes = [200,200]\n",
      "cfg.n_ins = 28*28\n",
      "cfg.n_outs = 10\n",
      "numpy_rng = numpy.random.RandomState(89677)\n",
      "theano_rng = RandomStreams(numpy_rng.randint(2 ** 30))\n",
      "log('> ... building the model')\n",
      "# setup model\n",
      "if cfg.do_dropout:\n",
      "    dnn = DNN_Dropout(theano_rng = theano_rng, cfg = cfg)\n",
      "else:\n",
      "    dnn = DNN(numpy_rng=numpy_rng, theano_rng = theano_rng, cfg = cfg)\n",
      "\n",
      "# initialize model parameters\n",
      "# if not resuming training, initialized from the specified pre-training file\n",
      "# if resuming training, initialized from the tmp model file\n",
      "resume_training = False\n",
      "if (ptr_layer_number > 0) and (resume_training is False):\n",
      "    _file2nnet(dnn.layers, set_layer_num = ptr_layer_number, filename = ptr_file)\n",
      " "
     ],
     "language": "python",
     "metadata": {},
     "outputs": [
      {
       "output_type": "stream",
       "stream": "stderr",
       "text": [
        "[2015-02-12 13:18:33.601273] > ... building the model\n"
       ]
      }
     ],
     "prompt_number": 3
    },
    {
     "cell_type": "code",
     "collapsed": false,
     "input": [
      "ddn_display = NetworkDisplayer(dnn)"
     ],
     "language": "python",
     "metadata": {},
     "outputs": [],
     "prompt_number": 4
    },
    {
     "cell_type": "code",
     "collapsed": false,
     "input": [
      "sda =  cPickle.load(open('sda.pickle', 'r'))\n",
      "ddn_display = NetworkDisplayer(sda)"
     ],
     "language": "python",
     "metadata": {},
     "outputs": [],
     "prompt_number": 34
    },
    {
     "cell_type": "code",
     "collapsed": false,
     "input": [],
     "language": "python",
     "metadata": {},
     "outputs": []
    },
    {
     "cell_type": "code",
     "collapsed": false,
     "input": [
      "ddn_display.save_to_file('5layers_Sda')"
     ],
     "language": "python",
     "metadata": {},
     "outputs": [],
     "prompt_number": 36
    },
    {
     "cell_type": "code",
     "collapsed": false,
     "input": [
      "da = sda.dA_layers[3]\n"
     ],
     "language": "python",
     "metadata": {},
     "outputs": [
      {
       "ename": "IndexError",
       "evalue": "list index out of range",
       "output_type": "pyerr",
       "traceback": [
        "\u001b[1;31m---------------------------------------------------------------------------\u001b[0m\n\u001b[1;31mIndexError\u001b[0m                                Traceback (most recent call last)",
        "\u001b[1;32m<ipython-input-9-280b60e43bbf>\u001b[0m in \u001b[0;36m<module>\u001b[1;34m()\u001b[0m\n\u001b[1;32m----> 1\u001b[1;33m \u001b[0mda\u001b[0m \u001b[1;33m=\u001b[0m \u001b[0msda\u001b[0m\u001b[1;33m.\u001b[0m\u001b[0mdA_layers\u001b[0m\u001b[1;33m[\u001b[0m\u001b[1;36m3\u001b[0m\u001b[1;33m]\u001b[0m\u001b[1;33m\u001b[0m\u001b[0m\n\u001b[0m",
        "\u001b[1;31mIndexError\u001b[0m: list index out of range"
       ]
      }
     ],
     "prompt_number": 9
    },
    {
     "cell_type": "code",
     "collapsed": false,
     "input": [
      "numpy.shape(da.W.get_value())"
     ],
     "language": "python",
     "metadata": {},
     "outputs": [
      {
       "metadata": {},
       "output_type": "pyout",
       "prompt_number": 8,
       "text": [
        "(70, 70)"
       ]
      }
     ],
     "prompt_number": 8
    },
    {
     "cell_type": "code",
     "collapsed": false,
     "input": [
      "import gzip\n",
      "train =  cPickle.load(gzip.open('train.pickle.gz', 'r'))"
     ],
     "language": "python",
     "metadata": {},
     "outputs": [],
     "prompt_number": 26
    },
    {
     "cell_type": "code",
     "collapsed": false,
     "input": [
      "train"
     ],
     "language": "python",
     "metadata": {},
     "outputs": [
      {
       "metadata": {},
       "output_type": "pyout",
       "prompt_number": 27,
       "text": [
        "(array([[ 0.,  0.,  0., ...,  0.,  0.,  0.],\n",
        "        [ 0.,  0.,  0., ...,  0.,  0.,  0.],\n",
        "        [ 0.,  0.,  0., ...,  0.,  0.,  0.],\n",
        "        ..., \n",
        "        [ 0.,  0.,  0., ...,  0.,  0.,  0.],\n",
        "        [ 0.,  0.,  0., ...,  0.,  0.,  0.],\n",
        "        [ 0.,  0.,  0., ...,  0.,  0.,  0.]], dtype=float32),\n",
        " array([5, 0, 4, ..., 8, 4, 8]))"
       ]
      }
     ],
     "prompt_number": 27
    },
    {
     "cell_type": "code",
     "collapsed": false,
     "input": [
      "ddn_display.map_to_input_space()"
     ],
     "language": "python",
     "metadata": {},
     "outputs": [
      {
       "metadata": {},
       "output_type": "pyout",
       "prompt_number": 3,
       "text": [
        "[array([[ 0.04579591, -0.18277262,  0.12137735, ...,  0.18753509,\n",
        "          0.11972587,  0.09042498],\n",
        "        [ 0.13775837, -0.01091504, -0.12122336, ..., -0.12083928,\n",
        "         -0.10891742, -0.18474402],\n",
        "        [ 0.09298442,  0.10485994,  0.19065665, ...,  0.05653615,\n",
        "          0.10360565,  0.19101664],\n",
        "        ..., \n",
        "        [-0.12811485,  0.13664122,  0.04495057, ..., -0.10706387,\n",
        "         -0.11928456,  0.06053942],\n",
        "        [-0.01384088, -0.07372942,  0.20490818, ..., -0.14217353,\n",
        "          0.12785897,  0.19635318],\n",
        "        [ 0.19726098,  0.02721892,  0.12211317, ...,  0.13226026,\n",
        "          0.0579107 ,  0.20831998]], dtype=float32),\n",
        " array([[-1.17797899,  0.29802224,  0.17742224, ..., -0.15063895,\n",
        "         -1.26532018,  0.41980031],\n",
        "        [ 1.26019645, -0.49960151, -0.28140855, ..., -0.14438808,\n",
        "          0.31595966,  0.64643836],\n",
        "        [ 0.2398041 ,  0.39951792,  0.64549249, ...,  0.54882926,\n",
        "          0.39378491,  0.36607537],\n",
        "        ..., \n",
        "        [-0.09850325,  0.17520493, -0.14378087, ..., -0.68869054,\n",
        "          0.40776119,  0.77538145],\n",
        "        [ 0.20951217, -1.08992922, -0.17817819, ..., -0.21313599,\n",
        "          0.90888816, -0.15069214],\n",
        "        [-0.30087399,  0.19739909, -0.0090945 , ..., -0.54674178,\n",
        "          1.09623766,  0.15931991]], dtype=float32)]"
       ]
      }
     ],
     "prompt_number": 3
    },
    {
     "cell_type": "code",
     "collapsed": false,
     "input": [
      "sda."
     ],
     "language": "python",
     "metadata": {},
     "outputs": [
      {
       "metadata": {},
       "output_type": "pyout",
       "prompt_number": 12,
       "text": [
        "<models.sda.SdA at 0x4c4e910>"
       ]
      }
     ],
     "prompt_number": 12
    },
    {
     "cell_type": "code",
     "collapsed": false,
     "input": [
      "dnn.layers[4].W.get_value()"
     ],
     "language": "python",
     "metadata": {},
     "outputs": [
      {
       "metadata": {},
       "output_type": "pyout",
       "prompt_number": 31,
       "text": [
        "array([[ 0.,  0.,  0., ...,  0.,  0.,  0.],\n",
        "       [ 0.,  0.,  0., ...,  0.,  0.,  0.],\n",
        "       [ 0.,  0.,  0., ...,  0.,  0.,  0.],\n",
        "       ..., \n",
        "       [ 0.,  0.,  0., ...,  0.,  0.,  0.],\n",
        "       [ 0.,  0.,  0., ...,  0.,  0.,  0.],\n",
        "       [ 0.,  0.,  0., ...,  0.,  0.,  0.]], dtype=float32)"
       ]
      }
     ],
     "prompt_number": 31
    },
    {
     "cell_type": "code",
     "collapsed": false,
     "input": [
      "2 + 1"
     ],
     "language": "python",
     "metadata": {},
     "outputs": [
      {
       "metadata": {},
       "output_type": "pyout",
       "prompt_number": 18,
       "text": [
        "3"
       ]
      }
     ],
     "prompt_number": 18
    },
    {
     "cell_type": "code",
     "collapsed": false,
     "input": [
      "a = range(len([1,2,2,2,2])-1, -1, -1)"
     ],
     "language": "python",
     "metadata": {},
     "outputs": [],
     "prompt_number": 22
    },
    {
     "cell_type": "code",
     "collapsed": false,
     "input": [
      "a"
     ],
     "language": "python",
     "metadata": {},
     "outputs": [
      {
       "metadata": {},
       "output_type": "pyout",
       "prompt_number": 23,
       "text": [
        "[4, 3, 2, 1, 0]"
       ]
      }
     ],
     "prompt_number": 23
    },
    {
     "cell_type": "code",
     "collapsed": false,
     "input": [],
     "language": "python",
     "metadata": {},
     "outputs": []
    },
    {
     "cell_type": "code",
     "collapsed": false,
     "input": [
      "import numpy as np"
     ],
     "language": "python",
     "metadata": {},
     "outputs": [],
     "prompt_number": 37
    },
    {
     "cell_type": "code",
     "collapsed": false,
     "input": [
      "a =np.random.random((9,3))"
     ],
     "language": "python",
     "metadata": {},
     "outputs": [],
     "prompt_number": 38
    },
    {
     "cell_type": "code",
     "collapsed": false,
     "input": [],
     "language": "python",
     "metadata": {},
     "outputs": [
      {
       "metadata": {},
       "output_type": "pyout",
       "prompt_number": 39,
       "text": [
        "array([[ 0.60616781,  0.6529921 ,  0.8874479 ],\n",
        "       [ 0.53998917,  0.5409682 ,  0.08992238],\n",
        "       [ 0.54627699,  0.42431642,  0.73976611],\n",
        "       [ 0.25405443,  0.80976989,  0.2966003 ],\n",
        "       [ 0.41475825,  0.30703943,  0.03069165],\n",
        "       [ 0.6115559 ,  0.19603346,  0.07729197],\n",
        "       [ 0.82587564,  0.74859706,  0.98171242],\n",
        "       [ 0.08452298,  0.88848396,  0.55245313],\n",
        "       [ 0.44521158,  0.16645095,  0.66663503]])"
       ]
      }
     ],
     "prompt_number": 39
    },
    {
     "cell_type": "code",
     "collapsed": false,
     "input": [
      "numpy.random.shuffle(a)"
     ],
     "language": "python",
     "metadata": {},
     "outputs": [],
     "prompt_number": 40
    },
    {
     "cell_type": "code",
     "collapsed": false,
     "input": [
      "583+572+1623\n"
     ],
     "language": "python",
     "metadata": {},
     "outputs": [
      {
       "metadata": {},
       "output_type": "pyout",
       "prompt_number": 11,
       "text": [
        "2778"
       ]
      }
     ],
     "prompt_number": 11
    }
   ],
   "metadata": {}
  }
 ]
}